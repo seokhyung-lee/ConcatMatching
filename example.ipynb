{
 "cells": [
  {
   "cell_type": "code",
   "execution_count": 1,
   "id": "8fe1397c",
   "metadata": {
    "ExecuteTime": {
     "end_time": "2024-11-27T08:15:26.483060Z",
     "start_time": "2024-11-27T08:15:25.109081Z"
    }
   },
   "outputs": [],
   "source": [
    "from concatmatching import *\n",
    "import numpy as np\n",
    "%load_ext autoreload\n",
    "%autoreload 2"
   ]
  },
  {
   "cell_type": "code",
   "execution_count": 2,
   "id": "34d26925",
   "metadata": {
    "ExecuteTime": {
     "end_time": "2024-11-27T08:15:27.663478Z",
     "start_time": "2024-11-27T08:15:27.634648Z"
    }
   },
   "outputs": [],
   "source": [
    "# Distance-5 color code check matrix under bit-flip noise\n",
    "H = np.array([[0, 1, 1, 0, 0, 1, 1, 0, 0, 0, 0, 0, 0, 0, 0, 0, 0, 0, 0],\n",
    "              [0, 0, 0, 1, 1, 0, 0, 1, 1, 0, 0, 0, 0, 0, 0, 0, 0, 0, 0],\n",
    "              [1, 1, 0, 0, 0, 1, 0, 0, 0, 1, 0, 0, 0, 0, 0, 0, 0, 0, 0],\n",
    "              [0, 0, 1, 1, 0, 0, 1, 1, 0, 0, 1, 1, 0, 0, 0, 0, 0, 0, 0],\n",
    "              [0, 0, 0, 0, 0, 1, 1, 0, 0, 1, 1, 0, 1, 1, 0, 0, 0, 0, 0],\n",
    "              [0, 0, 0, 0, 0, 0, 0, 1, 1, 0, 0, 1, 0, 0, 1, 0, 0, 0, 0],\n",
    "              [0, 0, 0, 0, 0, 0, 0, 0, 0, 0, 1, 1, 0, 1, 1, 1, 1, 0, 0],\n",
    "              [0, 0, 0, 0, 0, 0, 0, 0, 0, 0, 0, 0, 1, 1, 0, 1, 0, 1, 0],\n",
    "              [0, 0, 0, 0, 0, 0, 0, 0, 0, 0, 0, 0, 0, 0, 0, 1, 1, 1, 1]])"
   ]
  },
  {
   "cell_type": "code",
   "execution_count": 3,
   "id": "cba87b8a",
   "metadata": {
    "ExecuteTime": {
     "end_time": "2024-11-27T08:15:29.273105Z",
     "start_time": "2024-11-27T08:15:29.203733Z"
    },
    "scrolled": false
   },
   "outputs": [
    {
     "name": "stdout",
     "output_type": "stream",
     "text": [
      "9 checks, 19 faults\n",
      "p given: False\n",
      "filtering_strategy = greedy_coloring\n",
      "filtering_options = {}\n",
      "comparison = True\n",
      "Start decomposition.\n",
      "\n",
      "ROUND 0:\n",
      "CHILD DECOMP 0\n",
      "6 checks, 9 edges, max degree = 2\n",
      "CHILD DECOMP 1\n",
      "6 checks, 9 edges, max degree = 2\n",
      "CHILD DECOMP 2\n",
      "6 checks, 9 edges, max degree = 2\n",
      "\n",
      "ROUND 1 (DECOMP 0):\n",
      "12 checks, 19 edges\n",
      "\n",
      "ROUND 1 (DECOMP 1):\n",
      "12 checks, 19 edges\n",
      "\n",
      "ROUND 1 (DECOMP 2):\n",
      "12 checks, 19 edges\n"
     ]
    }
   ],
   "source": [
    "decoder = Decoder(H, \n",
    "                  p=None,\n",
    "                  comparison=True,\n",
    "#                   check_colors=[2, 2, 0, 0, 1, 1, 2, 0, 1],\n",
    "                  verbose=True)"
   ]
  },
  {
   "cell_type": "markdown",
   "id": "395528af",
   "metadata": {},
   "source": [
    "**Note on the `check_colors` parameter:**\n",
    "\n",
    "By default, the `greedy_coloring` strategy is used for decomposing the tanner graph into matchable tanner graphs. It works by assigning colours to checks in a way that each fault affects checks of distinct colours, using a graph colouring subroutine. Then each pair of colours can be used to extract a matchable tanner graph from the original tanner graph. \n",
    "\n",
    "However, this is not always desirable. For example, when decoding a 2D color code under bit-flip noise (as in the above example), this method works well. However, if it has measurement errors on syndrome qubits, each of them affects only two checks (in consecutive time slices), and assigning the same colour to them doesn't matter for extracting a matchable tanner graph. In such cases, you can manually give the colours of checks by parameter `check_colors`. (Currently support only three colours, so it should be composed of 0, 1, and 2 only.)"
   ]
  },
  {
   "cell_type": "code",
   "execution_count": 7,
   "id": "881afd68",
   "metadata": {
    "ExecuteTime": {
     "end_time": "2024-11-27T08:15:37.692840Z",
     "start_time": "2024-11-27T08:15:37.670451Z"
    },
    "scrolled": false
   },
   "outputs": [
    {
     "name": "stdout",
     "output_type": "stream",
     "text": [
      "4 8\n"
     ]
    }
   ],
   "source": [
    "# Generating a random syndrome data\n",
    "errors = np.random.choice([True, False], p=(0.2, 0.8), size=H.shape[1])\n",
    "syndrome = errors@H.T\n",
    "print(errors.sum(), syndrome.sum())"
   ]
  },
  {
   "cell_type": "code",
   "execution_count": 8,
   "id": "f0a0f9b9",
   "metadata": {
    "ExecuteTime": {
     "end_time": "2024-11-27T08:15:38.921339Z",
     "start_time": "2024-11-27T08:15:38.897941Z"
    }
   },
   "outputs": [
    {
     "name": "stdout",
     "output_type": "stream",
     "text": [
      ">> Decoding DECOMP 0...\n",
      "num_stages = 2\n",
      "Start decoding.\n",
      "Stage 0... Success!\n",
      "Stage 1... Success!\n",
      "Valid: True\n",
      "Weight = 3.0\n",
      "\n",
      ">> Decoding DECOMP 1...\n",
      "num_stages = 2\n",
      "Start decoding.\n",
      "Stage 0... Success!\n",
      "Stage 1... Success!\n",
      "Valid: True\n",
      "Weight = 5.0\n",
      "\n",
      ">> Decoding DECOMP 2...\n",
      "num_stages = 2\n",
      "Start decoding.\n",
      "Stage 0... Success!\n",
      "Stage 1... Success!\n",
      "Valid: True\n",
      "Weight = 3.0\n",
      "\n",
      "Best DECOMP: 0\n",
      "Min weight = 3.0\n"
     ]
    }
   ],
   "source": [
    "# Decoding\n",
    "preds, data = decoder.decode(syndrome, verbose=True, full_output=True, check_validity=True)"
   ]
  },
  {
   "cell_type": "code",
   "execution_count": 9,
   "id": "ed8e24a3",
   "metadata": {
    "ExecuteTime": {
     "end_time": "2024-11-27T08:15:41.558275Z",
     "start_time": "2024-11-27T08:15:41.516277Z"
    }
   },
   "outputs": [
    {
     "data": {
      "text/plain": [
       "array([False,  True, False, False, False, False, False, False,  True,\n",
       "       False, False, False, False,  True, False, False, False, False,\n",
       "       False])"
      ]
     },
     "execution_count": 9,
     "metadata": {},
     "output_type": "execute_result"
    }
   ],
   "source": [
    "preds"
   ]
  },
  {
   "cell_type": "code",
   "execution_count": 10,
   "id": "7a814c19",
   "metadata": {
    "ExecuteTime": {
     "end_time": "2024-11-27T08:15:42.680756Z",
     "start_time": "2024-11-27T08:15:42.602494Z"
    }
   },
   "outputs": [],
   "source": [
    "# Decoder can be saved & loaded\n",
    "decoder.save('decoder')\n",
    "decoder = Decoder.load('decoder')"
   ]
  }
 ],
 "metadata": {
  "kernelspec": {
   "display_name": "Python 3 (ipykernel)",
   "language": "python",
   "name": "python3"
  },
  "language_info": {
   "codemirror_mode": {
    "name": "ipython",
    "version": 3
   },
   "file_extension": ".py",
   "mimetype": "text/x-python",
   "name": "python",
   "nbconvert_exporter": "python",
   "pygments_lexer": "ipython3",
   "version": "3.11.3"
  },
  "varInspector": {
   "cols": {
    "lenName": 16,
    "lenType": 16,
    "lenVar": 40
   },
   "kernels_config": {
    "python": {
     "delete_cmd_postfix": "",
     "delete_cmd_prefix": "del ",
     "library": "var_list.py",
     "varRefreshCmd": "print(var_dic_list())"
    },
    "r": {
     "delete_cmd_postfix": ") ",
     "delete_cmd_prefix": "rm(",
     "library": "var_list.r",
     "varRefreshCmd": "cat(var_dic_list()) "
    }
   },
   "types_to_exclude": [
    "module",
    "function",
    "builtin_function_or_method",
    "instance",
    "_Feature"
   ],
   "window_display": false
  }
 },
 "nbformat": 4,
 "nbformat_minor": 5
}
