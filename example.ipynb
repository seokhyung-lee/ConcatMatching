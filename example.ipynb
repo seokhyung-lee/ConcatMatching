{
 "cells": [
  {
   "cell_type": "code",
   "execution_count": 1,
   "id": "8fe1397c",
   "metadata": {
    "ExecuteTime": {
     "end_time": "2024-11-26T09:51:26.392867Z",
     "start_time": "2024-11-26T09:51:24.992471Z"
    }
   },
   "outputs": [],
   "source": [
    "from concatmatching import *\n",
    "import numpy as np\n",
    "%load_ext autoreload\n",
    "%autoreload 2"
   ]
  },
  {
   "cell_type": "code",
   "execution_count": 2,
   "id": "34d26925",
   "metadata": {
    "ExecuteTime": {
     "end_time": "2024-11-26T09:51:27.507389Z",
     "start_time": "2024-11-26T09:51:27.475563Z"
    }
   },
   "outputs": [],
   "source": [
    "# Distance-5 color code check matrix\n",
    "H = np.array([[0, 1, 1, 0, 0, 1, 1, 0, 0, 0, 0, 0, 0, 0, 0, 0, 0, 0, 0],\n",
    "              [0, 0, 0, 1, 1, 0, 0, 1, 1, 0, 0, 0, 0, 0, 0, 0, 0, 0, 0],\n",
    "              [1, 1, 0, 0, 0, 1, 0, 0, 0, 1, 0, 0, 0, 0, 0, 0, 0, 0, 0],\n",
    "              [0, 0, 1, 1, 0, 0, 1, 1, 0, 0, 1, 1, 0, 0, 0, 0, 0, 0, 0],\n",
    "              [0, 0, 0, 0, 0, 1, 1, 0, 0, 1, 1, 0, 1, 1, 0, 0, 0, 0, 0],\n",
    "              [0, 0, 0, 0, 0, 0, 0, 1, 1, 0, 0, 1, 0, 0, 1, 0, 0, 0, 0],\n",
    "              [0, 0, 0, 0, 0, 0, 0, 0, 0, 0, 1, 1, 0, 1, 1, 1, 1, 0, 0],\n",
    "              [0, 0, 0, 0, 0, 0, 0, 0, 0, 0, 0, 0, 1, 1, 0, 1, 0, 1, 0],\n",
    "              [0, 0, 0, 0, 0, 0, 0, 0, 0, 0, 0, 0, 0, 0, 0, 1, 1, 1, 1]])"
   ]
  },
  {
   "cell_type": "code",
   "execution_count": 3,
   "id": "cba87b8a",
   "metadata": {
    "ExecuteTime": {
     "end_time": "2024-11-26T09:51:28.843832Z",
     "start_time": "2024-11-26T09:51:28.804676Z"
    },
    "scrolled": true
   },
   "outputs": [
    {
     "name": "stdout",
     "output_type": "stream",
     "text": [
      "9 checks, 19 faults\n",
      "p given: False\n",
      "filtering_strategy = greedy_coloring\n",
      "filtering_options = {}\n",
      "Start decomposition.\n",
      "\n",
      "ROUND 0:\n",
      "CHILD DECOMP 0\n",
      "6 checks, 9 edges, max degree = 2\n",
      "CHILD DECOMP 1\n",
      "6 checks, 9 edges, max degree = 2\n",
      "CHILD DECOMP 2\n",
      "6 checks, 9 edges, max degree = 2\n",
      "\n",
      "ROUND 1 (DECOMP 0):\n",
      "12 checks, 19 edges\n",
      "\n",
      "ROUND 1 (DECOMP 1):\n",
      "12 checks, 19 edges\n",
      "\n",
      "ROUND 1 (DECOMP 2):\n",
      "12 checks, 19 edges\n"
     ]
    }
   ],
   "source": [
    "decoder = Decoder(H, p=None, comparison=True, verbose=True)"
   ]
  },
  {
   "cell_type": "code",
   "execution_count": null,
   "id": "56a7fa9a",
   "metadata": {},
   "outputs": [],
   "source": [
    "decoder"
   ]
  }
 ],
 "metadata": {
  "kernelspec": {
   "display_name": "Python 3 (ipykernel)",
   "language": "python",
   "name": "python3"
  },
  "language_info": {
   "codemirror_mode": {
    "name": "ipython",
    "version": 3
   },
   "file_extension": ".py",
   "mimetype": "text/x-python",
   "name": "python",
   "nbconvert_exporter": "python",
   "pygments_lexer": "ipython3",
   "version": "3.11.3"
  },
  "varInspector": {
   "cols": {
    "lenName": 16,
    "lenType": 16,
    "lenVar": 40
   },
   "kernels_config": {
    "python": {
     "delete_cmd_postfix": "",
     "delete_cmd_prefix": "del ",
     "library": "var_list.py",
     "varRefreshCmd": "print(var_dic_list())"
    },
    "r": {
     "delete_cmd_postfix": ") ",
     "delete_cmd_prefix": "rm(",
     "library": "var_list.r",
     "varRefreshCmd": "cat(var_dic_list()) "
    }
   },
   "types_to_exclude": [
    "module",
    "function",
    "builtin_function_or_method",
    "instance",
    "_Feature"
   ],
   "window_display": false
  }
 },
 "nbformat": 4,
 "nbformat_minor": 5
}
