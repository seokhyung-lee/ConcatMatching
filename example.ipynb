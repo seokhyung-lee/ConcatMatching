{
 "cells": [
  {
   "cell_type": "code",
   "execution_count": 1,
   "id": "8fe1397c",
   "metadata": {
    "ExecuteTime": {
     "end_time": "2024-11-26T10:33:37.191279Z",
     "start_time": "2024-11-26T10:33:36.050691Z"
    }
   },
   "outputs": [],
   "source": [
    "from concatmatching import *\n",
    "import numpy as np\n",
    "%load_ext autoreload\n",
    "%autoreload 2"
   ]
  },
  {
   "cell_type": "code",
   "execution_count": 2,
   "id": "34d26925",
   "metadata": {
    "ExecuteTime": {
     "end_time": "2024-11-26T10:33:38.208309Z",
     "start_time": "2024-11-26T10:33:38.180064Z"
    }
   },
   "outputs": [],
   "source": [
    "# Distance-5 color code check matrix\n",
    "H = np.array([[0, 1, 1, 0, 0, 1, 1, 0, 0, 0, 0, 0, 0, 0, 0, 0, 0, 0, 0],\n",
    "              [0, 0, 0, 1, 1, 0, 0, 1, 1, 0, 0, 0, 0, 0, 0, 0, 0, 0, 0],\n",
    "              [1, 1, 0, 0, 0, 1, 0, 0, 0, 1, 0, 0, 0, 0, 0, 0, 0, 0, 0],\n",
    "              [0, 0, 1, 1, 0, 0, 1, 1, 0, 0, 1, 1, 0, 0, 0, 0, 0, 0, 0],\n",
    "              [0, 0, 0, 0, 0, 1, 1, 0, 0, 1, 1, 0, 1, 1, 0, 0, 0, 0, 0],\n",
    "              [0, 0, 0, 0, 0, 0, 0, 1, 1, 0, 0, 1, 0, 0, 1, 0, 0, 0, 0],\n",
    "              [0, 0, 0, 0, 0, 0, 0, 0, 0, 0, 1, 1, 0, 1, 1, 1, 1, 0, 0],\n",
    "              [0, 0, 0, 0, 0, 0, 0, 0, 0, 0, 0, 0, 1, 1, 0, 1, 0, 1, 0],\n",
    "              [0, 0, 0, 0, 0, 0, 0, 0, 0, 0, 0, 0, 0, 0, 0, 1, 1, 1, 1]])"
   ]
  },
  {
   "cell_type": "code",
   "execution_count": 3,
   "id": "cba87b8a",
   "metadata": {
    "ExecuteTime": {
     "end_time": "2024-11-26T10:33:39.743870Z",
     "start_time": "2024-11-26T10:33:39.706134Z"
    },
    "scrolled": true
   },
   "outputs": [
    {
     "name": "stdout",
     "output_type": "stream",
     "text": [
      "9 checks, 19 faults\n",
      "p given: False\n",
      "filtering_strategy = greedy_coloring\n",
      "filtering_options = {}\n",
      "Start decomposition.\n",
      "\n",
      "ROUND 0:\n",
      "CHILD DECOMP 0\n",
      "6 checks, 9 edges, max degree = 2\n",
      "CHILD DECOMP 1\n",
      "6 checks, 9 edges, max degree = 2\n",
      "CHILD DECOMP 2\n",
      "6 checks, 9 edges, max degree = 2\n",
      "\n",
      "ROUND 1 (DECOMP 0):\n",
      "12 checks, 19 edges\n",
      "\n",
      "ROUND 1 (DECOMP 1):\n",
      "12 checks, 19 edges\n",
      "\n",
      "ROUND 1 (DECOMP 2):\n",
      "12 checks, 19 edges\n"
     ]
    }
   ],
   "source": [
    "decoder = Decoder(H, p=None, comparison=True, verbose=True)"
   ]
  },
  {
   "cell_type": "code",
   "execution_count": 41,
   "id": "9a2824b3",
   "metadata": {
    "ExecuteTime": {
     "end_time": "2024-11-26T10:43:57.214121Z",
     "start_time": "2024-11-26T10:43:57.185182Z"
    }
   },
   "outputs": [
    {
     "name": "stdout",
     "output_type": "stream",
     "text": [
      "3 7\n",
      ">> Decoding DECOMP 0...\n",
      "num_stages = 2\n",
      "Start decoding.\n",
      "Stage 0... Success!\n",
      "Stage 1... Success!\n",
      "Valid: True\n",
      "Weight = 4.0\n",
      "\n",
      ">> Decoding DECOMP 1...\n",
      "num_stages = 2\n",
      "Start decoding.\n",
      "Stage 0... Success!\n",
      "Stage 1... Success!\n",
      "Valid: True\n",
      "Weight = 2.0\n",
      "\n",
      ">> Decoding DECOMP 2...\n",
      "num_stages = 2\n",
      "Start decoding.\n",
      "Stage 0... Success!\n",
      "Stage 1... Success!\n",
      "Valid: True\n",
      "Weight = 2.0\n",
      "\n",
      "Best DECOMP: 1\n",
      "Min weight = 2.0\n"
     ]
    }
   ],
   "source": [
    "errors = np.random.choice([True, False], p=(0.2, 0.8), size=H.shape[1])\n",
    "syndrome = errors@H.T\n",
    "print(errors.sum(), syndrome.sum())\n",
    "preds, data = decoder.decode(syndrome, verbose=True, return_data=True, check_validity=True)"
   ]
  },
  {
   "cell_type": "code",
   "execution_count": 45,
   "id": "2e015bbe",
   "metadata": {
    "ExecuteTime": {
     "end_time": "2024-11-26T10:45:21.353887Z",
     "start_time": "2024-11-26T10:45:21.327198Z"
    }
   },
   "outputs": [
    {
     "data": {
      "text/plain": [
       "array([False,  True, False, False, False, False, False, False, False,\n",
       "       False,  True, False, False, False, False, False, False, False,\n",
       "       False])"
      ]
     },
     "execution_count": 45,
     "metadata": {},
     "output_type": "execute_result"
    }
   ],
   "source": [
    "preds"
   ]
  },
  {
   "cell_type": "code",
   "execution_count": 46,
   "id": "a8808128",
   "metadata": {
    "ExecuteTime": {
     "end_time": "2024-11-26T10:46:41.348972Z",
     "start_time": "2024-11-26T10:46:41.333462Z"
    }
   },
   "outputs": [],
   "source": [
    "# Decoder can be saved & loaded\n",
    "decoder.save('decoder')\n",
    "decoder = Decoder.load('decoder')"
   ]
  }
 ],
 "metadata": {
  "kernelspec": {
   "display_name": "Python 3 (ipykernel)",
   "language": "python",
   "name": "python3"
  },
  "language_info": {
   "codemirror_mode": {
    "name": "ipython",
    "version": 3
   },
   "file_extension": ".py",
   "mimetype": "text/x-python",
   "name": "python",
   "nbconvert_exporter": "python",
   "pygments_lexer": "ipython3",
   "version": "3.11.3"
  },
  "varInspector": {
   "cols": {
    "lenName": 16,
    "lenType": 16,
    "lenVar": 40
   },
   "kernels_config": {
    "python": {
     "delete_cmd_postfix": "",
     "delete_cmd_prefix": "del ",
     "library": "var_list.py",
     "varRefreshCmd": "print(var_dic_list())"
    },
    "r": {
     "delete_cmd_postfix": ") ",
     "delete_cmd_prefix": "rm(",
     "library": "var_list.r",
     "varRefreshCmd": "cat(var_dic_list()) "
    }
   },
   "types_to_exclude": [
    "module",
    "function",
    "builtin_function_or_method",
    "instance",
    "_Feature"
   ],
   "window_display": false
  }
 },
 "nbformat": 4,
 "nbformat_minor": 5
}
